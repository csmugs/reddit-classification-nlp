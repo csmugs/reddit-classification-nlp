{
 "cells": [
  {
   "cell_type": "markdown",
   "id": "6c4c53de-b4db-4ec0-9c1b-bf907a7790b9",
   "metadata": {},
   "source": [
    "<img src=\"http://imgur.com/1ZcRyrc.png\" style=\"float: left; margin: 20px; height: 55px\">\n",
    "\n",
    "# Project 3 - Subreddits"
   ]
  },
  {
   "cell_type": "markdown",
   "id": "76a92916-38a2-4633-86cf-0eb541f48854",
   "metadata": {},
   "source": [
    "## Problem Statement"
   ]
  },
  {
   "cell_type": "markdown",
   "id": "6c230953-df14-4aab-9717-e42554a41ab4",
   "metadata": {},
   "source": [
    "This is a binary classification problem asking if we can predict the Subreddit, cats or dogs, based on selftext or the title, or both.\n",
    "\n",
    "The ideal outcome is to provide the marketing team with top 'Buzz Words' they can use to directly appeal to either dog or cat lovers. We also aim to be able to identify cat or dog owners based on the way they post on Reddit."
   ]
  },
  {
   "cell_type": "markdown",
   "id": "ba1401d0-2571-486b-aafb-94ea343f4af9",
   "metadata": {},
   "source": [
    "## Contents:\n",
    "- [Background](#Background)\n",
    "- [Data Collection](./02_data_collection.ipynb)\n",
    "- [Data Cleaning](./03_data_cleaning.ipynb)\n",
    "- [Exploratory Data Analysis](./04_eda.ipynb)\n",
    "- [Modeling](./05_modeling.ipynb)\n",
    "- [Conclusions and Recommendations](./06_conclusions_and_recs.ipynb)"
   ]
  },
  {
   "cell_type": "markdown",
   "id": "95bbd007-8785-47d5-aea2-3e96f7bc4086",
   "metadata": {},
   "source": [
    "## Background"
   ]
  },
  {
   "cell_type": "markdown",
   "id": "dc682e0a-0b66-4c0c-9ad4-0fb77ad4095b",
   "metadata": {},
   "source": [
    "### Subreddits\n",
    "\n",
    "* [`r/cats`]: Subreddits for cat posts\n",
    "* [`r/dogs`]: Subreddits for dog posts"
   ]
  },
  {
   "cell_type": "markdown",
   "id": "f14035ad-5c98-4d6f-93df-219fa295fb0b",
   "metadata": {},
   "source": [
    "### Data Dictionary"
   ]
  },
  {
   "cell_type": "markdown",
   "id": "47d2374e-1abf-4577-b819-2fdde4e872ed",
   "metadata": {},
   "source": [
    "|Feature|Type|Dataset|Description|\n",
    "|---|---|---|---|\n",
    "|subreddit|object|pet|The Subreddit - Either 'cats' or 'dogs'|\n",
    "|selftext|object|pet|The body of the Reddit post|\n",
    "|title|object|pet|The title of the Reddit post|\n",
    "|text_length|int64|pet|The length of the selftext|\n",
    "|title_length|int64|tpet|The length of the title|\n",
    "|selftext_word_count|int64|pet|The number of words counted in the selftext|\n",
    "|title_word_count|int64|pet|The number of words counted in the title|\n",
    "|text_and_title|object|pet|A combination column of selftext and title|"
   ]
  }
 ],
 "metadata": {
  "kernelspec": {
   "display_name": "Python 3 (ipykernel)",
   "language": "python",
   "name": "python3"
  },
  "language_info": {
   "codemirror_mode": {
    "name": "ipython",
    "version": 3
   },
   "file_extension": ".py",
   "mimetype": "text/x-python",
   "name": "python",
   "nbconvert_exporter": "python",
   "pygments_lexer": "ipython3",
   "version": "3.9.13"
  }
 },
 "nbformat": 4,
 "nbformat_minor": 5
}
