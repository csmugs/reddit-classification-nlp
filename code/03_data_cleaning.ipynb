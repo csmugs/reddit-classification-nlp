{
 "cells": [
  {
   "cell_type": "markdown",
   "id": "1ba98b99-0344-412e-a5d5-f2c90e1f8c1d",
   "metadata": {},
   "source": [
    "## Imports"
   ]
  },
  {
   "cell_type": "code",
   "execution_count": 1,
   "id": "9ae70bd3-7412-4ef7-8e01-68352070f2ae",
   "metadata": {},
   "outputs": [],
   "source": [
    "import pandas as pd\n",
    "import matplotlib.pyplot as plt\n",
    "import seaborn as sns\n",
    "\n",
    "from sklearn.feature_extraction.text import CountVectorizer\n",
    "from sklearn.feature_extraction import text\n",
    "from nltk.corpus import stopwords\n",
    "from nltk.stem import WordNetLemmatizer\n",
    "from nltk.tokenize import word_tokenize\n",
    "\n",
    "import re"
   ]
  },
  {
   "cell_type": "markdown",
   "id": "52f06e84-4935-4001-a177-b115927c443c",
   "metadata": {},
   "source": [
    "## Cleaning"
   ]
  },
  {
   "cell_type": "code",
   "execution_count": 2,
   "id": "6f09aeb6-0c17-46ee-9c92-05a242550739",
   "metadata": {},
   "outputs": [],
   "source": [
    "# read in saved pets dataset\n",
    "pet_df = pd.read_csv('./data/pets.csv').drop(columns = 'Unnamed: 0')"
   ]
  },
  {
   "cell_type": "code",
   "execution_count": 3,
   "id": "e1d73ca9-9a71-4caa-a85c-ea8a2cb7ec25",
   "metadata": {},
   "outputs": [
    {
     "data": {
      "text/html": [
       "<div>\n",
       "<style scoped>\n",
       "    .dataframe tbody tr th:only-of-type {\n",
       "        vertical-align: middle;\n",
       "    }\n",
       "\n",
       "    .dataframe tbody tr th {\n",
       "        vertical-align: top;\n",
       "    }\n",
       "\n",
       "    .dataframe thead th {\n",
       "        text-align: right;\n",
       "    }\n",
       "</style>\n",
       "<table border=\"1\" class=\"dataframe\">\n",
       "  <thead>\n",
       "    <tr style=\"text-align: right;\">\n",
       "      <th></th>\n",
       "      <th>subreddit</th>\n",
       "      <th>selftext</th>\n",
       "      <th>title</th>\n",
       "      <th>created_utc</th>\n",
       "    </tr>\n",
       "  </thead>\n",
       "  <tbody>\n",
       "    <tr>\n",
       "      <th>0</th>\n",
       "      <td>dogs</td>\n",
       "      <td>So my miniature poodle can't last more than 10...</td>\n",
       "      <td>Barking when he is alone and awake</td>\n",
       "      <td>1673991330</td>\n",
       "    </tr>\n",
       "    <tr>\n",
       "      <th>1</th>\n",
       "      <td>dogs</td>\n",
       "      <td>Genuinely curious. My vet won’t answer this qu...</td>\n",
       "      <td>When is an appropriate age to start taking you...</td>\n",
       "      <td>1673991096</td>\n",
       "    </tr>\n",
       "    <tr>\n",
       "      <th>2</th>\n",
       "      <td>dogs</td>\n",
       "      <td>My 2.5 year mixed breed male dog has to have k...</td>\n",
       "      <td>Knee surgery</td>\n",
       "      <td>1673990893</td>\n",
       "    </tr>\n",
       "    <tr>\n",
       "      <th>3</th>\n",
       "      <td>dogs</td>\n",
       "      <td>I’m new to reddit and came across this sub. I ...</td>\n",
       "      <td>Positive and Negative Punishment</td>\n",
       "      <td>1673990776</td>\n",
       "    </tr>\n",
       "    <tr>\n",
       "      <th>4</th>\n",
       "      <td>dogs</td>\n",
       "      <td>Looking for advice on which dog washing statio...</td>\n",
       "      <td>HOA Agreed to purchase dog washing station</td>\n",
       "      <td>1673990697</td>\n",
       "    </tr>\n",
       "  </tbody>\n",
       "</table>\n",
       "</div>"
      ],
      "text/plain": [
       "  subreddit                                           selftext  \\\n",
       "0      dogs  So my miniature poodle can't last more than 10...   \n",
       "1      dogs  Genuinely curious. My vet won’t answer this qu...   \n",
       "2      dogs  My 2.5 year mixed breed male dog has to have k...   \n",
       "3      dogs  I’m new to reddit and came across this sub. I ...   \n",
       "4      dogs  Looking for advice on which dog washing statio...   \n",
       "\n",
       "                                               title  created_utc  \n",
       "0                 Barking when he is alone and awake   1673991330  \n",
       "1  When is an appropriate age to start taking you...   1673991096  \n",
       "2                                       Knee surgery   1673990893  \n",
       "3                   Positive and Negative Punishment   1673990776  \n",
       "4         HOA Agreed to purchase dog washing station   1673990697  "
      ]
     },
     "execution_count": 3,
     "metadata": {},
     "output_type": "execute_result"
    }
   ],
   "source": [
    "# check first 5 rows\n",
    "pet_df.head()"
   ]
  },
  {
   "cell_type": "code",
   "execution_count": 4,
   "id": "fb90d5b2-dd9a-49d4-b113-303848843761",
   "metadata": {},
   "outputs": [
    {
     "data": {
      "text/html": [
       "<div>\n",
       "<style scoped>\n",
       "    .dataframe tbody tr th:only-of-type {\n",
       "        vertical-align: middle;\n",
       "    }\n",
       "\n",
       "    .dataframe tbody tr th {\n",
       "        vertical-align: top;\n",
       "    }\n",
       "\n",
       "    .dataframe thead th {\n",
       "        text-align: right;\n",
       "    }\n",
       "</style>\n",
       "<table border=\"1\" class=\"dataframe\">\n",
       "  <thead>\n",
       "    <tr style=\"text-align: right;\">\n",
       "      <th></th>\n",
       "      <th>subreddit</th>\n",
       "      <th>selftext</th>\n",
       "      <th>title</th>\n",
       "      <th>created_utc</th>\n",
       "    </tr>\n",
       "  </thead>\n",
       "  <tbody>\n",
       "    <tr>\n",
       "      <th>1995</th>\n",
       "      <td>cats</td>\n",
       "      <td>NaN</td>\n",
       "      <td>My sleepy boi</td>\n",
       "      <td>1673913111</td>\n",
       "    </tr>\n",
       "    <tr>\n",
       "      <th>1996</th>\n",
       "      <td>cats</td>\n",
       "      <td>NaN</td>\n",
       "      <td>Safe to say my cat has accepted the new kitten.</td>\n",
       "      <td>1673913101</td>\n",
       "    </tr>\n",
       "    <tr>\n",
       "      <th>1997</th>\n",
       "      <td>cats</td>\n",
       "      <td>NaN</td>\n",
       "      <td>She is a bit special for sleeping</td>\n",
       "      <td>1673913055</td>\n",
       "    </tr>\n",
       "    <tr>\n",
       "      <th>1998</th>\n",
       "      <td>cats</td>\n",
       "      <td>NaN</td>\n",
       "      <td>Can anyone see me? I am hiding inside this…plate…</td>\n",
       "      <td>1673913046</td>\n",
       "    </tr>\n",
       "    <tr>\n",
       "      <th>1999</th>\n",
       "      <td>cats</td>\n",
       "      <td>NaN</td>\n",
       "      <td>Cat nap yoga: the goat yoga of 2023?</td>\n",
       "      <td>1673913041</td>\n",
       "    </tr>\n",
       "  </tbody>\n",
       "</table>\n",
       "</div>"
      ],
      "text/plain": [
       "     subreddit selftext                                              title  \\\n",
       "1995      cats      NaN                                      My sleepy boi   \n",
       "1996      cats      NaN    Safe to say my cat has accepted the new kitten.   \n",
       "1997      cats      NaN                  She is a bit special for sleeping   \n",
       "1998      cats      NaN  Can anyone see me? I am hiding inside this…plate…   \n",
       "1999      cats      NaN               Cat nap yoga: the goat yoga of 2023?   \n",
       "\n",
       "      created_utc  \n",
       "1995   1673913111  \n",
       "1996   1673913101  \n",
       "1997   1673913055  \n",
       "1998   1673913046  \n",
       "1999   1673913041  "
      ]
     },
     "execution_count": 4,
     "metadata": {},
     "output_type": "execute_result"
    }
   ],
   "source": [
    "# check last 5 rows\n",
    "pet_df.tail()"
   ]
  },
  {
   "cell_type": "markdown",
   "id": "4a32222e-ce77-49d8-8f3d-e0683e3075c3",
   "metadata": {},
   "source": [
    "##### The 'cats' subreddit appears to have a few missing values in the 'selftext' column. Let's check for missing values in the whole dataset."
   ]
  },
  {
   "cell_type": "code",
   "execution_count": 5,
   "id": "18d762de-1c78-4802-ac98-ea0e81e9fe30",
   "metadata": {},
   "outputs": [
    {
     "data": {
      "text/plain": [
       "subreddit      object\n",
       "selftext       object\n",
       "title          object\n",
       "created_utc     int64\n",
       "dtype: object"
      ]
     },
     "execution_count": 5,
     "metadata": {},
     "output_type": "execute_result"
    }
   ],
   "source": [
    "pet_df.dtypes"
   ]
  },
  {
   "cell_type": "code",
   "execution_count": 6,
   "id": "b58cc7db-f543-4511-b898-342e42672908",
   "metadata": {},
   "outputs": [
    {
     "data": {
      "text/plain": [
       "(2000, 4)"
      ]
     },
     "execution_count": 6,
     "metadata": {},
     "output_type": "execute_result"
    }
   ],
   "source": [
    "# check shape - each subreddit should have 1000 data entries each\n",
    "pet_df.shape"
   ]
  },
  {
   "cell_type": "code",
   "execution_count": 7,
   "id": "7f5dd37f-0376-4805-a262-a6c1e4d88663",
   "metadata": {
    "tags": []
   },
   "outputs": [
    {
     "data": {
      "text/plain": [
       "subreddit        0\n",
       "selftext       828\n",
       "title            0\n",
       "created_utc      0\n",
       "dtype: int64"
      ]
     },
     "execution_count": 7,
     "metadata": {},
     "output_type": "execute_result"
    }
   ],
   "source": [
    "pet_df.isnull().sum()"
   ]
  },
  {
   "cell_type": "code",
   "execution_count": 8,
   "id": "ba68e1df-6cfc-4378-aebe-2b84ffcf992f",
   "metadata": {},
   "outputs": [
    {
     "data": {
      "text/plain": [
       "subreddit      0\n",
       "selftext       8\n",
       "title          0\n",
       "created_utc    0\n",
       "dtype: int64"
      ]
     },
     "execution_count": 8,
     "metadata": {},
     "output_type": "execute_result"
    }
   ],
   "source": [
    "pet_df[pet_df['subreddit'] == 'dogs'].isnull().sum()"
   ]
  },
  {
   "cell_type": "code",
   "execution_count": 9,
   "id": "4ecef83c-57f7-4115-868a-81d4406941cd",
   "metadata": {},
   "outputs": [
    {
     "data": {
      "text/plain": [
       "subreddit        0\n",
       "selftext       820\n",
       "title            0\n",
       "created_utc      0\n",
       "dtype: int64"
      ]
     },
     "execution_count": 9,
     "metadata": {},
     "output_type": "execute_result"
    }
   ],
   "source": [
    "pet_df[pet_df['subreddit'] == 'cats'].isnull().sum()"
   ]
  },
  {
   "cell_type": "markdown",
   "id": "bec83271-9eab-4f4f-932c-311832fbf8df",
   "metadata": {},
   "source": [
    "##### Almost all of the selftext for the 'cats' subreddit is missing. \n",
    "##### Based on this, I will be replacing NaN in 'selftext' with 0's and using the 'title' column for the rest of this project."
   ]
  },
  {
   "cell_type": "code",
   "execution_count": 10,
   "id": "3b908a54-d4c0-4661-8727-8d6c5c96bcaf",
   "metadata": {},
   "outputs": [
    {
     "data": {
      "text/plain": [
       "subreddit      0\n",
       "selftext       0\n",
       "title          0\n",
       "created_utc    0\n",
       "dtype: int64"
      ]
     },
     "execution_count": 10,
     "metadata": {},
     "output_type": "execute_result"
    }
   ],
   "source": [
    "# replace missing values with ' ' since it's dtype is object\n",
    "pet_df.fillna(' ', inplace = True)\n",
    "\n",
    "# check again\n",
    "pet_df.isnull().sum()"
   ]
  },
  {
   "cell_type": "code",
   "execution_count": 11,
   "id": "e006227c-e43a-4c46-aba2-67feb10af826",
   "metadata": {},
   "outputs": [
    {
     "data": {
      "text/html": [
       "<div>\n",
       "<style scoped>\n",
       "    .dataframe tbody tr th:only-of-type {\n",
       "        vertical-align: middle;\n",
       "    }\n",
       "\n",
       "    .dataframe tbody tr th {\n",
       "        vertical-align: top;\n",
       "    }\n",
       "\n",
       "    .dataframe thead th {\n",
       "        text-align: right;\n",
       "    }\n",
       "</style>\n",
       "<table border=\"1\" class=\"dataframe\">\n",
       "  <thead>\n",
       "    <tr style=\"text-align: right;\">\n",
       "      <th></th>\n",
       "      <th>subreddit</th>\n",
       "      <th>selftext</th>\n",
       "      <th>title</th>\n",
       "      <th>created_utc</th>\n",
       "    </tr>\n",
       "  </thead>\n",
       "  <tbody>\n",
       "    <tr>\n",
       "      <th>1995</th>\n",
       "      <td>cats</td>\n",
       "      <td></td>\n",
       "      <td>My sleepy boi</td>\n",
       "      <td>1673913111</td>\n",
       "    </tr>\n",
       "    <tr>\n",
       "      <th>1996</th>\n",
       "      <td>cats</td>\n",
       "      <td></td>\n",
       "      <td>Safe to say my cat has accepted the new kitten.</td>\n",
       "      <td>1673913101</td>\n",
       "    </tr>\n",
       "    <tr>\n",
       "      <th>1997</th>\n",
       "      <td>cats</td>\n",
       "      <td></td>\n",
       "      <td>She is a bit special for sleeping</td>\n",
       "      <td>1673913055</td>\n",
       "    </tr>\n",
       "    <tr>\n",
       "      <th>1998</th>\n",
       "      <td>cats</td>\n",
       "      <td></td>\n",
       "      <td>Can anyone see me? I am hiding inside this…plate…</td>\n",
       "      <td>1673913046</td>\n",
       "    </tr>\n",
       "    <tr>\n",
       "      <th>1999</th>\n",
       "      <td>cats</td>\n",
       "      <td></td>\n",
       "      <td>Cat nap yoga: the goat yoga of 2023?</td>\n",
       "      <td>1673913041</td>\n",
       "    </tr>\n",
       "  </tbody>\n",
       "</table>\n",
       "</div>"
      ],
      "text/plain": [
       "     subreddit selftext                                              title  \\\n",
       "1995      cats                                               My sleepy boi   \n",
       "1996      cats             Safe to say my cat has accepted the new kitten.   \n",
       "1997      cats                           She is a bit special for sleeping   \n",
       "1998      cats           Can anyone see me? I am hiding inside this…plate…   \n",
       "1999      cats                        Cat nap yoga: the goat yoga of 2023?   \n",
       "\n",
       "      created_utc  \n",
       "1995   1673913111  \n",
       "1996   1673913101  \n",
       "1997   1673913055  \n",
       "1998   1673913046  \n",
       "1999   1673913041  "
      ]
     },
     "execution_count": 11,
     "metadata": {},
     "output_type": "execute_result"
    }
   ],
   "source": [
    "# check\n",
    "pet_df.tail()"
   ]
  },
  {
   "cell_type": "code",
   "execution_count": 12,
   "id": "3aa59033-edf2-4bb8-8f16-bdf109f933dc",
   "metadata": {},
   "outputs": [],
   "source": [
    "# save to cleaned csv\n",
    "pet_df.to_csv('./data/cleaned_pet.csv')"
   ]
  },
  {
   "cell_type": "markdown",
   "id": "849a7776-a85b-44bc-878f-6730c7167fca",
   "metadata": {},
   "source": [
    "### Question"
   ]
  },
  {
   "cell_type": "markdown",
   "id": "74798fef-fe3f-4ab2-bdbc-d2a63cb4cc94",
   "metadata": {},
   "source": [
    "* 82% of our 'cats' subreddit has missing values in the 'selftext' column, which is significant. Could this be an indicator of who is a cat or dog person? If we're using this dataset to predict who is a cat vs dog person, could an empty 'selftext' be indicative of cat people?\n",
    "\n",
    "##### Especially since 'selftext' is the body of the post, we could ask the questions: \n",
    "* Are cat people more likely to post gifs, videos, or images than dog people are?\n",
    "* Are dog people more likely to include text in their posts than cat people are?"
   ]
  }
 ],
 "metadata": {
  "kernelspec": {
   "display_name": "Python 3 (ipykernel)",
   "language": "python",
   "name": "python3"
  },
  "language_info": {
   "codemirror_mode": {
    "name": "ipython",
    "version": 3
   },
   "file_extension": ".py",
   "mimetype": "text/x-python",
   "name": "python",
   "nbconvert_exporter": "python",
   "pygments_lexer": "ipython3",
   "version": "3.9.13"
  }
 },
 "nbformat": 4,
 "nbformat_minor": 5
}
