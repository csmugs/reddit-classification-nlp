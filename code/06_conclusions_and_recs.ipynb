{
 "cells": [
  {
   "cell_type": "markdown",
   "id": "3f7e5d23-da57-4d22-9a24-c5d18f561b42",
   "metadata": {},
   "source": [
    "# Conclusions and Recommendations"
   ]
  },
  {
   "cell_type": "markdown",
   "id": "2d628397-9d6f-49a6-9630-3cefc7d4ad1c",
   "metadata": {
    "tags": []
   },
   "source": [
    "## Findings on Trends in the Data"
   ]
  },
  {
   "cell_type": "markdown",
   "id": "830b5305-a28a-44ae-a043-c12dedaebfcd",
   "metadata": {},
   "source": [
    "##### One of the most unique findings was right in the beginning during the data cleaning stage: 82% of the selftext from our 'cats' Subreddit were missing values. And considering I only selected 1000 data entries for each Subreddit, this meant I was missing almost all of the selftext for 'cats'.\n",
    "\n",
    "##### Because selftext is considered the body of the post, a missing value when initially analyzing our data does not mean that Reddit user were posting blank messages. Instead, we can assume that if no text was present in the body, that users were instead posting images, videos, or gifs.\n",
    "\n",
    "##### Lastly, our best model was a stacked model of Logistic Regression, Naive Bayes, and Random Forests, which gave us a training score of 99.23%, testing score of 96.4%, and a sensitivity of 95.6%."
   ]
  },
  {
   "cell_type": "markdown",
   "id": "bad85c6b-df06-4044-8210-eaabced6cf61",
   "metadata": {},
   "source": [
    "## Conclusions and Recommendations"
   ]
  },
  {
   "cell_type": "markdown",
   "id": "495168e2-ae3e-4bec-9648-5a4f15a335d3",
   "metadata": {},
   "source": [
    "##### With 82% of our 'cats' selftext missing, this tells me that the majority of users prefer to post via visuals rather than text. Whereas on the other hand users joined in the 'dogs' Subreddit prefer posting with text, or at the very least, in a combination of text and visuals.\n",
    "\n",
    "##### Because of this I recommend that any marketing for cat products be mainly visuals, and with as few words as possible, including only what is necessary. But with dog products, I recommend using some, all, or a combination of the following 'Buzz Words':\n",
    "\n",
    "* dog\n",
    "* just\n",
    "* dogs\n",
    "* like\n",
    "* time\n",
    "* know\n",
    "* vet\n",
    "* old\n",
    "* pet\n",
    "* need\n",
    "\n",
    "##### Because cats and dogs are clearly such opposite categories, there was a high possibility of our models performing too well. To challenge this, I removed give-away stopwords such as 'dog', 'dogs', 'puppy', 'puppies', 'cat', 'cats', 'kitty', 'kitties', etc.\n",
    "\n",
    "##### And with a sensitivity of 95.6%, our model's ability to correctly predict whether a text belonged to a 'cats' or 'dogs' Subreddit was impressive. However, this may still be because of how different the two Subreddits are; making it too easy for our models to perform near perfectly."
   ]
  }
 ],
 "metadata": {
  "kernelspec": {
   "display_name": "Python 3 (ipykernel)",
   "language": "python",
   "name": "python3"
  },
  "language_info": {
   "codemirror_mode": {
    "name": "ipython",
    "version": 3
   },
   "file_extension": ".py",
   "mimetype": "text/x-python",
   "name": "python",
   "nbconvert_exporter": "python",
   "pygments_lexer": "ipython3",
   "version": "3.9.13"
  }
 },
 "nbformat": 4,
 "nbformat_minor": 5
}
