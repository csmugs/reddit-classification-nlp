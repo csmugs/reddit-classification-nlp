{
 "cells": [
  {
   "cell_type": "markdown",
   "id": "ad9ae7aa-fca3-45ab-86f5-312c429d5c2e",
   "metadata": {},
   "source": [
    "## Imports"
   ]
  },
  {
   "cell_type": "code",
   "execution_count": 1,
   "id": "86f6a5d2-6ca8-4d08-b6cc-fe50021596fc",
   "metadata": {},
   "outputs": [],
   "source": [
    "import pandas as pd\n",
    "import matplotlib.pyplot as plt\n",
    "from sklearn.model_selection import train_test_split, GridSearchCV\n",
    "from sklearn.pipeline import Pipeline\n",
    "from sklearn.naive_bayes import MultinomialNB\n",
    "from sklearn.linear_model import LogisticRegression\n",
    "from sklearn.metrics import confusion_matrix, ConfusionMatrixDisplay, plot_confusion_matrix\n",
    "\n",
    "from sklearn.feature_extraction.text import CountVectorizer, TfidfVectorizer\n",
    "\n",
    "from nltk.corpus import stopwords\n",
    "from nltk.stem import WordNetLemmatizer\n",
    "from nltk.tokenize import word_tokenize\n",
    "\n",
    "from sklearn.neighbors import KNeighborsClassifier\n",
    "from sklearn.preprocessing import StandardScaler\n",
    "\n",
    "from sklearn.tree import DecisionTreeClassifier\n",
    "from sklearn.ensemble import RandomForestClassifier, StackingClassifier\n",
    "\n",
    "from sklearn.compose import ColumnTransformer"
   ]
  },
  {
   "cell_type": "code",
   "execution_count": 2,
   "id": "8e35ed5b-48eb-4013-b8d0-9e0b971bab5f",
   "metadata": {},
   "outputs": [
    {
     "data": {
      "text/html": [
       "<div>\n",
       "<style scoped>\n",
       "    .dataframe tbody tr th:only-of-type {\n",
       "        vertical-align: middle;\n",
       "    }\n",
       "\n",
       "    .dataframe tbody tr th {\n",
       "        vertical-align: top;\n",
       "    }\n",
       "\n",
       "    .dataframe thead th {\n",
       "        text-align: right;\n",
       "    }\n",
       "</style>\n",
       "<table border=\"1\" class=\"dataframe\">\n",
       "  <thead>\n",
       "    <tr style=\"text-align: right;\">\n",
       "      <th></th>\n",
       "      <th>subreddit</th>\n",
       "      <th>selftext</th>\n",
       "      <th>title</th>\n",
       "      <th>text_length</th>\n",
       "      <th>title_length</th>\n",
       "      <th>text_word_count</th>\n",
       "      <th>title_word_count</th>\n",
       "    </tr>\n",
       "  </thead>\n",
       "  <tbody>\n",
       "    <tr>\n",
       "      <th>0</th>\n",
       "      <td>dogs</td>\n",
       "      <td>So my miniature poodle can't last more than 10...</td>\n",
       "      <td>Barking when he is alone and awake</td>\n",
       "      <td>705</td>\n",
       "      <td>34</td>\n",
       "      <td>130</td>\n",
       "      <td>7</td>\n",
       "    </tr>\n",
       "    <tr>\n",
       "      <th>1</th>\n",
       "      <td>dogs</td>\n",
       "      <td>Genuinely curious. My vet won’t answer this qu...</td>\n",
       "      <td>When is an appropriate age to start taking you...</td>\n",
       "      <td>914</td>\n",
       "      <td>79</td>\n",
       "      <td>178</td>\n",
       "      <td>15</td>\n",
       "    </tr>\n",
       "    <tr>\n",
       "      <th>2</th>\n",
       "      <td>dogs</td>\n",
       "      <td>My 2.5 year mixed breed male dog has to have k...</td>\n",
       "      <td>Knee surgery</td>\n",
       "      <td>546</td>\n",
       "      <td>12</td>\n",
       "      <td>95</td>\n",
       "      <td>2</td>\n",
       "    </tr>\n",
       "    <tr>\n",
       "      <th>3</th>\n",
       "      <td>dogs</td>\n",
       "      <td>I’m new to reddit and came across this sub. I ...</td>\n",
       "      <td>Positive and Negative Punishment</td>\n",
       "      <td>3611</td>\n",
       "      <td>32</td>\n",
       "      <td>648</td>\n",
       "      <td>4</td>\n",
       "    </tr>\n",
       "    <tr>\n",
       "      <th>4</th>\n",
       "      <td>dogs</td>\n",
       "      <td>Looking for advice on which dog washing statio...</td>\n",
       "      <td>HOA Agreed to purchase dog washing station</td>\n",
       "      <td>283</td>\n",
       "      <td>42</td>\n",
       "      <td>54</td>\n",
       "      <td>7</td>\n",
       "    </tr>\n",
       "  </tbody>\n",
       "</table>\n",
       "</div>"
      ],
      "text/plain": [
       "  subreddit                                           selftext  \\\n",
       "0      dogs  So my miniature poodle can't last more than 10...   \n",
       "1      dogs  Genuinely curious. My vet won’t answer this qu...   \n",
       "2      dogs  My 2.5 year mixed breed male dog has to have k...   \n",
       "3      dogs  I’m new to reddit and came across this sub. I ...   \n",
       "4      dogs  Looking for advice on which dog washing statio...   \n",
       "\n",
       "                                               title  text_length  \\\n",
       "0                 Barking when he is alone and awake          705   \n",
       "1  When is an appropriate age to start taking you...          914   \n",
       "2                                       Knee surgery          546   \n",
       "3                   Positive and Negative Punishment         3611   \n",
       "4         HOA Agreed to purchase dog washing station          283   \n",
       "\n",
       "   title_length  text_word_count  title_word_count  \n",
       "0            34              130                 7  \n",
       "1            79              178                15  \n",
       "2            12               95                 2  \n",
       "3            32              648                 4  \n",
       "4            42               54                 7  "
      ]
     },
     "execution_count": 2,
     "metadata": {},
     "output_type": "execute_result"
    }
   ],
   "source": [
    "# read in eda data\n",
    "pet_df = pd.read_csv('../data/eda_pets.csv').drop(columns = ['Unnamed: 0', 'created_utc'])\n",
    "\n",
    "# check\n",
    "pet_df.head()"
   ]
  },
  {
   "cell_type": "code",
   "execution_count": 3,
   "id": "39ae6492-ff49-409d-b135-6365ad8f3538",
   "metadata": {},
   "outputs": [],
   "source": [
    "# make column that combines 'selftext' and 'title'\n",
    "pet_df['text_and_title'] = pet_df['selftext'] + pet_df['title']"
   ]
  },
  {
   "cell_type": "code",
   "execution_count": 4,
   "id": "5692ea23-bc9f-45d8-a327-fca84113f238",
   "metadata": {},
   "outputs": [
    {
     "data": {
      "text/html": [
       "<div>\n",
       "<style scoped>\n",
       "    .dataframe tbody tr th:only-of-type {\n",
       "        vertical-align: middle;\n",
       "    }\n",
       "\n",
       "    .dataframe tbody tr th {\n",
       "        vertical-align: top;\n",
       "    }\n",
       "\n",
       "    .dataframe thead th {\n",
       "        text-align: right;\n",
       "    }\n",
       "</style>\n",
       "<table border=\"1\" class=\"dataframe\">\n",
       "  <thead>\n",
       "    <tr style=\"text-align: right;\">\n",
       "      <th></th>\n",
       "      <th>subreddit</th>\n",
       "      <th>selftext</th>\n",
       "      <th>title</th>\n",
       "      <th>text_length</th>\n",
       "      <th>title_length</th>\n",
       "      <th>text_word_count</th>\n",
       "      <th>title_word_count</th>\n",
       "      <th>text_and_title</th>\n",
       "    </tr>\n",
       "  </thead>\n",
       "  <tbody>\n",
       "    <tr>\n",
       "      <th>0</th>\n",
       "      <td>dogs</td>\n",
       "      <td>So my miniature poodle can't last more than 10...</td>\n",
       "      <td>Barking when he is alone and awake</td>\n",
       "      <td>705</td>\n",
       "      <td>34</td>\n",
       "      <td>130</td>\n",
       "      <td>7</td>\n",
       "      <td>So my miniature poodle can't last more than 10...</td>\n",
       "    </tr>\n",
       "    <tr>\n",
       "      <th>1</th>\n",
       "      <td>dogs</td>\n",
       "      <td>Genuinely curious. My vet won’t answer this qu...</td>\n",
       "      <td>When is an appropriate age to start taking you...</td>\n",
       "      <td>914</td>\n",
       "      <td>79</td>\n",
       "      <td>178</td>\n",
       "      <td>15</td>\n",
       "      <td>Genuinely curious. My vet won’t answer this qu...</td>\n",
       "    </tr>\n",
       "    <tr>\n",
       "      <th>2</th>\n",
       "      <td>dogs</td>\n",
       "      <td>My 2.5 year mixed breed male dog has to have k...</td>\n",
       "      <td>Knee surgery</td>\n",
       "      <td>546</td>\n",
       "      <td>12</td>\n",
       "      <td>95</td>\n",
       "      <td>2</td>\n",
       "      <td>My 2.5 year mixed breed male dog has to have k...</td>\n",
       "    </tr>\n",
       "    <tr>\n",
       "      <th>3</th>\n",
       "      <td>dogs</td>\n",
       "      <td>I’m new to reddit and came across this sub. I ...</td>\n",
       "      <td>Positive and Negative Punishment</td>\n",
       "      <td>3611</td>\n",
       "      <td>32</td>\n",
       "      <td>648</td>\n",
       "      <td>4</td>\n",
       "      <td>I’m new to reddit and came across this sub. I ...</td>\n",
       "    </tr>\n",
       "    <tr>\n",
       "      <th>4</th>\n",
       "      <td>dogs</td>\n",
       "      <td>Looking for advice on which dog washing statio...</td>\n",
       "      <td>HOA Agreed to purchase dog washing station</td>\n",
       "      <td>283</td>\n",
       "      <td>42</td>\n",
       "      <td>54</td>\n",
       "      <td>7</td>\n",
       "      <td>Looking for advice on which dog washing statio...</td>\n",
       "    </tr>\n",
       "  </tbody>\n",
       "</table>\n",
       "</div>"
      ],
      "text/plain": [
       "  subreddit                                           selftext  \\\n",
       "0      dogs  So my miniature poodle can't last more than 10...   \n",
       "1      dogs  Genuinely curious. My vet won’t answer this qu...   \n",
       "2      dogs  My 2.5 year mixed breed male dog has to have k...   \n",
       "3      dogs  I’m new to reddit and came across this sub. I ...   \n",
       "4      dogs  Looking for advice on which dog washing statio...   \n",
       "\n",
       "                                               title  text_length  \\\n",
       "0                 Barking when he is alone and awake          705   \n",
       "1  When is an appropriate age to start taking you...          914   \n",
       "2                                       Knee surgery          546   \n",
       "3                   Positive and Negative Punishment         3611   \n",
       "4         HOA Agreed to purchase dog washing station          283   \n",
       "\n",
       "   title_length  text_word_count  title_word_count  \\\n",
       "0            34              130                 7   \n",
       "1            79              178                15   \n",
       "2            12               95                 2   \n",
       "3            32              648                 4   \n",
       "4            42               54                 7   \n",
       "\n",
       "                                      text_and_title  \n",
       "0  So my miniature poodle can't last more than 10...  \n",
       "1  Genuinely curious. My vet won’t answer this qu...  \n",
       "2  My 2.5 year mixed breed male dog has to have k...  \n",
       "3  I’m new to reddit and came across this sub. I ...  \n",
       "4  Looking for advice on which dog washing statio...  "
      ]
     },
     "execution_count": 4,
     "metadata": {},
     "output_type": "execute_result"
    }
   ],
   "source": [
    "pet_df.head()"
   ]
  },
  {
   "cell_type": "markdown",
   "id": "095dcff6-3e89-4ef1-b312-00721dbf9c99",
   "metadata": {},
   "source": [
    "## Modeling"
   ]
  },
  {
   "cell_type": "markdown",
   "id": "6b40543a-bbac-414c-b96c-2530046601c9",
   "metadata": {},
   "source": [
    "#### Train/Test Split"
   ]
  },
  {
   "cell_type": "code",
   "execution_count": 5,
   "id": "0a716aa0-7bc1-42f2-adce-58313d7af740",
   "metadata": {},
   "outputs": [
    {
     "data": {
      "text/plain": [
       "(2000, 8)"
      ]
     },
     "execution_count": 5,
     "metadata": {},
     "output_type": "execute_result"
    }
   ],
   "source": [
    "pet_df.shape"
   ]
  },
  {
   "cell_type": "code",
   "execution_count": 6,
   "id": "26f3466d-94a1-40af-a666-5d3789c6fefc",
   "metadata": {},
   "outputs": [],
   "source": [
    "# set up X and y\n",
    "X = pet_df['text_and_title']\n",
    "y = pet_df['subreddit']"
   ]
  },
  {
   "cell_type": "code",
   "execution_count": 7,
   "id": "a8d357eb-00b2-43f3-bd90-be5860301841",
   "metadata": {},
   "outputs": [],
   "source": [
    "# train/test split\n",
    "X_train, X_test, y_train, y_test = train_test_split(X,\n",
    "                                                    y,\n",
    "                                                    stratify = y,\n",
    "                                                    random_state=42)"
   ]
  },
  {
   "cell_type": "code",
   "execution_count": 8,
   "id": "cad4acd7-4a5f-4b8f-bbcf-793995ac4efe",
   "metadata": {},
   "outputs": [
    {
     "data": {
      "text/plain": [
       "dogs    0.5\n",
       "cats    0.5\n",
       "Name: subreddit, dtype: float64"
      ]
     },
     "execution_count": 8,
     "metadata": {},
     "output_type": "execute_result"
    }
   ],
   "source": [
    "# check baseline accuracy\n",
    "y_test.value_counts(normalize = True)"
   ]
  },
  {
   "cell_type": "code",
   "execution_count": 9,
   "id": "40672a9c-af46-480f-8eca-f0e145d63955",
   "metadata": {},
   "outputs": [
    {
     "name": "stdout",
     "output_type": "stream",
     "text": [
      "cats    0.5\n",
      "dogs    0.5\n",
      "Name: subreddit, dtype: float64\n",
      "dogs    0.5\n",
      "cats    0.5\n",
      "Name: subreddit, dtype: float64\n"
     ]
    }
   ],
   "source": [
    "# value counts for y_train and y_test\n",
    "print(y_train.value_counts(normalize = True))\n",
    "print(y_test.value_counts(normalize = True))"
   ]
  },
  {
   "cell_type": "markdown",
   "id": "dab5a0f8-9866-49de-8162-ed1e39470eef",
   "metadata": {},
   "source": [
    "## Pre-Processing"
   ]
  },
  {
   "cell_type": "markdown",
   "id": "163bb901-f453-4626-97f9-38576941712e",
   "metadata": {},
   "source": [
    "#### Stop Words"
   ]
  },
  {
   "cell_type": "code",
   "execution_count": 10,
   "id": "fef5d359-4f66-4879-a444-16aabe7dd33f",
   "metadata": {},
   "outputs": [],
   "source": [
    "stop_words = stopwords.words('english')\n",
    "\n",
    "new_stopwords = ['webp', 'https', 'preview', 'amp', 'format', 'enabled', 'auto', 'dog', 'dogs', 'cat', 'cats', 'puppy', 'puppies', 'kitty', 'kitties']"
   ]
  },
  {
   "cell_type": "code",
   "execution_count": 11,
   "id": "52fdccf3-29ca-4a31-afe0-cb0a80116894",
   "metadata": {},
   "outputs": [],
   "source": [
    "# combine both lists\n",
    "all_stopwords = stop_words + new_stopwords"
   ]
  },
  {
   "cell_type": "code",
   "execution_count": 12,
   "id": "ab14062a-1897-475a-af6e-5b8125403ab6",
   "metadata": {},
   "outputs": [
    {
     "name": "stdout",
     "output_type": "stream",
     "text": [
      "['i', 'me', 'my', 'myself', 'we', 'our', 'ours', 'ourselves', 'you', \"you're\", \"you've\", \"you'll\", \"you'd\", 'your', 'yours', 'yourself', 'yourselves', 'he', 'him', 'his', 'himself', 'she', \"she's\", 'her', 'hers', 'herself', 'it', \"it's\", 'its', 'itself', 'they', 'them', 'their', 'theirs', 'themselves', 'what', 'which', 'who', 'whom', 'this', 'that', \"that'll\", 'these', 'those', 'am', 'is', 'are', 'was', 'were', 'be', 'been', 'being', 'have', 'has', 'had', 'having', 'do', 'does', 'did', 'doing', 'a', 'an', 'the', 'and', 'but', 'if', 'or', 'because', 'as', 'until', 'while', 'of', 'at', 'by', 'for', 'with', 'about', 'against', 'between', 'into', 'through', 'during', 'before', 'after', 'above', 'below', 'to', 'from', 'up', 'down', 'in', 'out', 'on', 'off', 'over', 'under', 'again', 'further', 'then', 'once', 'here', 'there', 'when', 'where', 'why', 'how', 'all', 'any', 'both', 'each', 'few', 'more', 'most', 'other', 'some', 'such', 'no', 'nor', 'not', 'only', 'own', 'same', 'so', 'than', 'too', 'very', 's', 't', 'can', 'will', 'just', 'don', \"don't\", 'should', \"should've\", 'now', 'd', 'll', 'm', 'o', 're', 've', 'y', 'ain', 'aren', \"aren't\", 'couldn', \"couldn't\", 'didn', \"didn't\", 'doesn', \"doesn't\", 'hadn', \"hadn't\", 'hasn', \"hasn't\", 'haven', \"haven't\", 'isn', \"isn't\", 'ma', 'mightn', \"mightn't\", 'mustn', \"mustn't\", 'needn', \"needn't\", 'shan', \"shan't\", 'shouldn', \"shouldn't\", 'wasn', \"wasn't\", 'weren', \"weren't\", 'won', \"won't\", 'wouldn', \"wouldn't\", 'webp', 'https', 'preview', 'amp', 'format', 'enabled', 'auto', 'dog', 'dogs', 'cat', 'cats', 'puppy', 'puppies', 'kitty', 'kitties']\n",
      "194\n"
     ]
    }
   ],
   "source": [
    "# check\n",
    "print(all_stopwords)\n",
    "\n",
    "print(len(all_stopwords))"
   ]
  },
  {
   "cell_type": "code",
   "execution_count": 16,
   "id": "9f63866b-f973-4790-9a3b-6330aa0124dc",
   "metadata": {},
   "outputs": [
    {
     "data": {
      "text/plain": [
       "1538                                     tatlı şirin kedı\n",
       "1879     i found a kitten and i would love to keep it ...\n",
       "58      My golden retriever, for whatever reason, seem...\n",
       "9       So my Australian cattle dog boxer collie mix i...\n",
       "1268     This gang of feral cats I met in Hawaii looke...\n",
       "                              ...                        \n",
       "836     We will be taking our good boy corgi home from...\n",
       "1452                                 show me cat in a bag\n",
       "387     What dog breed is right for me?\\n\\n\\- I live i...\n",
       "266     I went away over Christmas and as he was with ...\n",
       "537     Hoping I might be able to crowdsource some ins...\n",
       "Name: text_and_title, Length: 1500, dtype: object"
      ]
     },
     "execution_count": 16,
     "metadata": {},
     "output_type": "execute_result"
    }
   ],
   "source": [
    "X_train"
   ]
  },
  {
   "cell_type": "code",
   "execution_count": 17,
   "id": "dbd33b0a-b7da-42b5-9f10-82aa713dc337",
   "metadata": {},
   "outputs": [
    {
     "data": {
      "text/plain": [
       "(1500,)"
      ]
     },
     "execution_count": 17,
     "metadata": {},
     "output_type": "execute_result"
    }
   ],
   "source": [
    "X_train.shape"
   ]
  },
  {
   "cell_type": "code",
   "execution_count": 18,
   "id": "de1c00c7-2a77-4817-bc06-28aee33a396f",
   "metadata": {},
   "outputs": [
    {
     "data": {
      "text/plain": [
       "pandas.core.series.Series"
      ]
     },
     "execution_count": 18,
     "metadata": {},
     "output_type": "execute_result"
    }
   ],
   "source": [
    "type(X_train)"
   ]
  },
  {
   "cell_type": "markdown",
   "id": "19c8744b-beb7-4b43-9635-98d31565173d",
   "metadata": {},
   "source": [
    "#### Logistic Regression"
   ]
  },
  {
   "cell_type": "code",
   "execution_count": 86,
   "id": "c04c4441-3f40-4658-af7b-ec5bf9cbd3f5",
   "metadata": {},
   "outputs": [],
   "source": [
    "lr_pipe = Pipeline([\n",
    "    ('cvec', CountVectorizer()),\n",
    "    ('lr', LogisticRegression())\n",
    "])"
   ]
  },
  {
   "cell_type": "code",
   "execution_count": 87,
   "id": "39886cf6-e337-431a-aaa0-bb04c98ef2c6",
   "metadata": {},
   "outputs": [],
   "source": [
    "lr_pipe_params = {\n",
    "    'cvec__stop_words': ['english', all_stopwords],\n",
    "    'cvec__max_features': [1000,3000,5000],\n",
    "    'cvec__min_df': [1,3,5],\n",
    "    'cvec__max_df': [0.8, 0.9],\n",
    "    'cvec__ngram_range': [(1,1),(1, 2)]\n",
    "}"
   ]
  },
  {
   "cell_type": "code",
   "execution_count": 88,
   "id": "b47c7abb-491b-409b-aa02-07e230705b38",
   "metadata": {},
   "outputs": [],
   "source": [
    "# gridsearch\n",
    "lr_gs = GridSearchCV(lr_pipe, param_grid = lr_pipe_params, n_jobs = -1)"
   ]
  },
  {
   "cell_type": "code",
   "execution_count": 89,
   "id": "18044ddd-4f66-4224-87c9-c1684e946211",
   "metadata": {},
   "outputs": [
    {
     "name": "stderr",
     "output_type": "stream",
     "text": [
      "/Users/cammiismugereski/opt/anaconda3/lib/python3.9/site-packages/joblib/externals/loky/process_executor.py:702: UserWarning: A worker stopped while some jobs were given to the executor. This can be caused by a too short worker timeout or by a memory leak.\n",
      "  warnings.warn(\n"
     ]
    },
    {
     "data": {
      "text/plain": [
       "GridSearchCV(estimator=Pipeline(steps=[('cvec', CountVectorizer()),\n",
       "                                       ('lr', LogisticRegression())]),\n",
       "             n_jobs=-1,\n",
       "             param_grid={'cvec__max_df': [0.8, 0.9],\n",
       "                         'cvec__max_features': [1000, 3000, 5000],\n",
       "                         'cvec__min_df': [1, 3, 5],\n",
       "                         'cvec__ngram_range': [(1, 1), (1, 2)],\n",
       "                         'cvec__stop_words': ['english',\n",
       "                                              ['i', 'me', 'my', 'myself', 'we',\n",
       "                                               'our', 'ours', 'ourselves',\n",
       "                                               'you', \"you're\", \"you've\",\n",
       "                                               \"you'll\", \"you'd\", 'your',\n",
       "                                               'yours', 'yourself',\n",
       "                                               'yourselves', 'he', 'him', 'his',\n",
       "                                               'himself', 'she', \"she's\", 'her',\n",
       "                                               'hers', 'herself', 'it', \"it's\",\n",
       "                                               'its', 'itself', ...]]})"
      ]
     },
     "execution_count": 89,
     "metadata": {},
     "output_type": "execute_result"
    }
   ],
   "source": [
    "# fit\n",
    "lr_gs.fit(X_train, y_train)"
   ]
  },
  {
   "cell_type": "code",
   "execution_count": 90,
   "id": "d672140c-feda-4ccf-8fbe-6d1ad4bf9a55",
   "metadata": {},
   "outputs": [
    {
     "data": {
      "text/plain": [
       "{'cvec__max_df': 0.8,\n",
       " 'cvec__max_features': 1000,\n",
       " 'cvec__min_df': 1,\n",
       " 'cvec__ngram_range': (1, 1),\n",
       " 'cvec__stop_words': 'english'}"
      ]
     },
     "execution_count": 90,
     "metadata": {},
     "output_type": "execute_result"
    }
   ],
   "source": [
    "# best params\n",
    "lr_gs.best_params_"
   ]
  },
  {
   "cell_type": "code",
   "execution_count": 91,
   "id": "27728587-f0bd-425b-92d1-2fae82079aae",
   "metadata": {},
   "outputs": [
    {
     "name": "stdout",
     "output_type": "stream",
     "text": [
      "Training Score: 0.992\n",
      "Testing Score: 0.958\n"
     ]
    }
   ],
   "source": [
    "# print scores\n",
    "print(f'Training Score: {lr_gs.score(X_train, y_train)}')\n",
    "print(f'Testing Score: {lr_gs.score(X_test, y_test)}')"
   ]
  },
  {
   "cell_type": "markdown",
   "id": "2f44ab84-b807-4c98-b923-4517093b4d73",
   "metadata": {},
   "source": [
    "#### Naïve Bayes"
   ]
  },
  {
   "cell_type": "code",
   "execution_count": 19,
   "id": "386fe2c8-95ce-4b66-81f6-fd70b1abff94",
   "metadata": {},
   "outputs": [],
   "source": [
    "nb_pipe = Pipeline([\n",
    "    ('cvec', CountVectorizer()),\n",
    "    ('nb', MultinomialNB())\n",
    "])"
   ]
  },
  {
   "cell_type": "code",
   "execution_count": 20,
   "id": "c74d9fd3-d772-4c91-b73c-097aeaf145d8",
   "metadata": {},
   "outputs": [],
   "source": [
    "nb_pipe_params = {\n",
    "    'cvec__stop_words': [stopwords.words('english'), all_stopwords],\n",
    "    'cvec__max_features': [1000, 2000, 3000, 4000, 5000],\n",
    "    'cvec__min_df': [2, 3],\n",
    "    'cvec__max_df': [0.7, 0.8, 0.9],\n",
    "    'cvec__ngram_range': [(1, 1), (1, 2)]\n",
    "}"
   ]
  },
  {
   "cell_type": "code",
   "execution_count": 21,
   "id": "6cc005a6-6783-41dd-8be9-5a14fa25a516",
   "metadata": {},
   "outputs": [],
   "source": [
    "# gridsearch\n",
    "nb_gs = GridSearchCV(nb_pipe, param_grid = nb_pipe_params, n_jobs = -1)"
   ]
  },
  {
   "cell_type": "code",
   "execution_count": 22,
   "id": "278a25e7-fab0-49e9-9a44-bbefe49465cd",
   "metadata": {},
   "outputs": [
    {
     "data": {
      "text/plain": [
       "GridSearchCV(estimator=Pipeline(steps=[('cvec', CountVectorizer()),\n",
       "                                       ('nb', MultinomialNB())]),\n",
       "             n_jobs=-1,\n",
       "             param_grid={'cvec__max_df': [0.7, 0.8, 0.9],\n",
       "                         'cvec__max_features': [1000, 2000, 3000, 4000, 5000],\n",
       "                         'cvec__min_df': [2, 3],\n",
       "                         'cvec__ngram_range': [(1, 1), (1, 2)],\n",
       "                         'cvec__stop_words': [['i', 'me', 'my', 'myself', 'we',\n",
       "                                               'our', 'ours', 'ourselves',\n",
       "                                               'you', \"you're\", \"you've\",\n",
       "                                               \"you'll...\n",
       "                                               'yours', 'yourself',\n",
       "                                               'yourselves', 'he', 'him', 'his',\n",
       "                                               'himself', 'she', \"she's\", 'her',\n",
       "                                               'hers', 'herself', 'it', \"it's\",\n",
       "                                               'its', 'itself', ...],\n",
       "                                              ['i', 'me', 'my', 'myself', 'we',\n",
       "                                               'our', 'ours', 'ourselves',\n",
       "                                               'you', \"you're\", \"you've\",\n",
       "                                               \"you'll\", \"you'd\", 'your',\n",
       "                                               'yours', 'yourself',\n",
       "                                               'yourselves', 'he', 'him', 'his',\n",
       "                                               'himself', 'she', \"she's\", 'her',\n",
       "                                               'hers', 'herself', 'it', \"it's\",\n",
       "                                               'its', 'itself', ...]]})"
      ]
     },
     "execution_count": 22,
     "metadata": {},
     "output_type": "execute_result"
    }
   ],
   "source": [
    "# fit\n",
    "nb_gs.fit(X_train, y_train)"
   ]
  },
  {
   "cell_type": "code",
   "execution_count": 23,
   "id": "154754b2-deda-401e-9a6f-0aba21f7947f",
   "metadata": {},
   "outputs": [
    {
     "data": {
      "text/plain": [
       "0.9039999999999999"
      ]
     },
     "execution_count": 23,
     "metadata": {},
     "output_type": "execute_result"
    }
   ],
   "source": [
    "# best score\n",
    "nb_gs.best_score_"
   ]
  },
  {
   "cell_type": "code",
   "execution_count": 24,
   "id": "da581226-1afb-4d45-887a-0e277243cbdf",
   "metadata": {
    "scrolled": true,
    "tags": []
   },
   "outputs": [
    {
     "data": {
      "text/plain": [
       "{'cvec__max_df': 0.7,\n",
       " 'cvec__max_features': 1000,\n",
       " 'cvec__min_df': 3,\n",
       " 'cvec__ngram_range': (1, 1),\n",
       " 'cvec__stop_words': ['i',\n",
       "  'me',\n",
       "  'my',\n",
       "  'myself',\n",
       "  'we',\n",
       "  'our',\n",
       "  'ours',\n",
       "  'ourselves',\n",
       "  'you',\n",
       "  \"you're\",\n",
       "  \"you've\",\n",
       "  \"you'll\",\n",
       "  \"you'd\",\n",
       "  'your',\n",
       "  'yours',\n",
       "  'yourself',\n",
       "  'yourselves',\n",
       "  'he',\n",
       "  'him',\n",
       "  'his',\n",
       "  'himself',\n",
       "  'she',\n",
       "  \"she's\",\n",
       "  'her',\n",
       "  'hers',\n",
       "  'herself',\n",
       "  'it',\n",
       "  \"it's\",\n",
       "  'its',\n",
       "  'itself',\n",
       "  'they',\n",
       "  'them',\n",
       "  'their',\n",
       "  'theirs',\n",
       "  'themselves',\n",
       "  'what',\n",
       "  'which',\n",
       "  'who',\n",
       "  'whom',\n",
       "  'this',\n",
       "  'that',\n",
       "  \"that'll\",\n",
       "  'these',\n",
       "  'those',\n",
       "  'am',\n",
       "  'is',\n",
       "  'are',\n",
       "  'was',\n",
       "  'were',\n",
       "  'be',\n",
       "  'been',\n",
       "  'being',\n",
       "  'have',\n",
       "  'has',\n",
       "  'had',\n",
       "  'having',\n",
       "  'do',\n",
       "  'does',\n",
       "  'did',\n",
       "  'doing',\n",
       "  'a',\n",
       "  'an',\n",
       "  'the',\n",
       "  'and',\n",
       "  'but',\n",
       "  'if',\n",
       "  'or',\n",
       "  'because',\n",
       "  'as',\n",
       "  'until',\n",
       "  'while',\n",
       "  'of',\n",
       "  'at',\n",
       "  'by',\n",
       "  'for',\n",
       "  'with',\n",
       "  'about',\n",
       "  'against',\n",
       "  'between',\n",
       "  'into',\n",
       "  'through',\n",
       "  'during',\n",
       "  'before',\n",
       "  'after',\n",
       "  'above',\n",
       "  'below',\n",
       "  'to',\n",
       "  'from',\n",
       "  'up',\n",
       "  'down',\n",
       "  'in',\n",
       "  'out',\n",
       "  'on',\n",
       "  'off',\n",
       "  'over',\n",
       "  'under',\n",
       "  'again',\n",
       "  'further',\n",
       "  'then',\n",
       "  'once',\n",
       "  'here',\n",
       "  'there',\n",
       "  'when',\n",
       "  'where',\n",
       "  'why',\n",
       "  'how',\n",
       "  'all',\n",
       "  'any',\n",
       "  'both',\n",
       "  'each',\n",
       "  'few',\n",
       "  'more',\n",
       "  'most',\n",
       "  'other',\n",
       "  'some',\n",
       "  'such',\n",
       "  'no',\n",
       "  'nor',\n",
       "  'not',\n",
       "  'only',\n",
       "  'own',\n",
       "  'same',\n",
       "  'so',\n",
       "  'than',\n",
       "  'too',\n",
       "  'very',\n",
       "  's',\n",
       "  't',\n",
       "  'can',\n",
       "  'will',\n",
       "  'just',\n",
       "  'don',\n",
       "  \"don't\",\n",
       "  'should',\n",
       "  \"should've\",\n",
       "  'now',\n",
       "  'd',\n",
       "  'll',\n",
       "  'm',\n",
       "  'o',\n",
       "  're',\n",
       "  've',\n",
       "  'y',\n",
       "  'ain',\n",
       "  'aren',\n",
       "  \"aren't\",\n",
       "  'couldn',\n",
       "  \"couldn't\",\n",
       "  'didn',\n",
       "  \"didn't\",\n",
       "  'doesn',\n",
       "  \"doesn't\",\n",
       "  'hadn',\n",
       "  \"hadn't\",\n",
       "  'hasn',\n",
       "  \"hasn't\",\n",
       "  'haven',\n",
       "  \"haven't\",\n",
       "  'isn',\n",
       "  \"isn't\",\n",
       "  'ma',\n",
       "  'mightn',\n",
       "  \"mightn't\",\n",
       "  'mustn',\n",
       "  \"mustn't\",\n",
       "  'needn',\n",
       "  \"needn't\",\n",
       "  'shan',\n",
       "  \"shan't\",\n",
       "  'shouldn',\n",
       "  \"shouldn't\",\n",
       "  'wasn',\n",
       "  \"wasn't\",\n",
       "  'weren',\n",
       "  \"weren't\",\n",
       "  'won',\n",
       "  \"won't\",\n",
       "  'wouldn',\n",
       "  \"wouldn't\"]}"
      ]
     },
     "execution_count": 24,
     "metadata": {},
     "output_type": "execute_result"
    }
   ],
   "source": [
    "# best params\n",
    "nb_gs.best_params_"
   ]
  },
  {
   "cell_type": "code",
   "execution_count": 30,
   "id": "a469a2d7-0353-4e78-90f3-65d2bc7bd243",
   "metadata": {},
   "outputs": [
    {
     "name": "stdout",
     "output_type": "stream",
     "text": [
      "Training Score: 0.934\n",
      "Testing Score: 0.916\n"
     ]
    }
   ],
   "source": [
    "# print scores\n",
    "print(f'Training Score: {nb_gs.score(X_train, y_train)}')\n",
    "print(f'Testing Score: {nb_gs.score(X_test, y_test)}')"
   ]
  },
  {
   "cell_type": "markdown",
   "id": "00263f8f-5e5a-4aa8-b3b6-2ac5a0966ae0",
   "metadata": {},
   "source": [
    "#### Random Forest"
   ]
  },
  {
   "cell_type": "code",
   "execution_count": 25,
   "id": "56f4826b-fe01-4c37-abce-d5fbe6b59726",
   "metadata": {},
   "outputs": [],
   "source": [
    "rf_pipe = Pipeline([\n",
    "    ('cvec', CountVectorizer()),\n",
    "    ('rf', RandomForestClassifier())\n",
    "])"
   ]
  },
  {
   "cell_type": "code",
   "execution_count": 26,
   "id": "f8ee616c-634e-4f37-bf65-d56202524ced",
   "metadata": {},
   "outputs": [],
   "source": [
    "rf_pipe_params = {\n",
    "    'rf__n_estimators':[50,100,150],\n",
    "    'rf__max_depth':[None,5],\n",
    "    'rf__min_samples_split':[2,5,10],\n",
    "    'rf__ccp_alpha':[0,.01,.1],\n",
    "    'cvec__stop_words': ['english', all_stopwords],\n",
    "    'cvec__max_features': [1000, 2000, 3000, 4000, 5000],\n",
    "    'cvec__min_df': range(1,3,5),\n",
    "    'cvec__max_df': [0.8, 0.9],\n",
    "    'cvec__ngram_range': [(1, 2)]\n",
    "}"
   ]
  },
  {
   "cell_type": "code",
   "execution_count": 27,
   "id": "1ec952e7-7dc1-4e93-9e8e-1097856fefc9",
   "metadata": {},
   "outputs": [],
   "source": [
    "rf_gs = GridSearchCV(rf_pipe, param_grid = rf_pipe_params, n_jobs=-1)"
   ]
  },
  {
   "cell_type": "code",
   "execution_count": 28,
   "id": "ecd9b06c-6a0c-4b37-be09-714bece71c2c",
   "metadata": {},
   "outputs": [
    {
     "name": "stderr",
     "output_type": "stream",
     "text": [
      "/Users/cammiismugereski/opt/anaconda3/lib/python3.9/site-packages/joblib/externals/loky/process_executor.py:702: UserWarning: A worker stopped while some jobs were given to the executor. This can be caused by a too short worker timeout or by a memory leak.\n",
      "  warnings.warn(\n"
     ]
    },
    {
     "data": {
      "text/plain": [
       "GridSearchCV(estimator=Pipeline(steps=[('cvec', CountVectorizer()),\n",
       "                                       ('rf', RandomForestClassifier())]),\n",
       "             n_jobs=-1,\n",
       "             param_grid={'cvec__max_df': [0.8, 0.9],\n",
       "                         'cvec__max_features': [1000, 2000, 3000, 4000, 5000],\n",
       "                         'cvec__min_df': range(1, 3, 5),\n",
       "                         'cvec__ngram_range': [(1, 2)],\n",
       "                         'cvec__stop_words': ['english',\n",
       "                                              ['i', 'me', 'my', 'myself', 'we',\n",
       "                                               'our', 'ours', 'ourselves',\n",
       "                                               'you', \"you're\", \"you've\",\n",
       "                                               \"you'll\", \"you'd\", 'your',\n",
       "                                               'yours', 'yourself',\n",
       "                                               'yourselves', 'he', 'him', 'his',\n",
       "                                               'himself', 'she', \"she's\", 'her',\n",
       "                                               'hers', 'herself', 'it', \"it's\",\n",
       "                                               'its', 'itself', ...]],\n",
       "                         'rf__ccp_alpha': [0, 0.01, 0.1],\n",
       "                         'rf__max_depth': [None, 5],\n",
       "                         'rf__min_samples_split': [2, 5, 10],\n",
       "                         'rf__n_estimators': [50, 100, 150]})"
      ]
     },
     "execution_count": 28,
     "metadata": {},
     "output_type": "execute_result"
    }
   ],
   "source": [
    "rf_gs.fit(X_train, y_train)"
   ]
  },
  {
   "cell_type": "code",
   "execution_count": 36,
   "id": "4500f744-abe6-40c2-b395-9bb5b9737566",
   "metadata": {},
   "outputs": [
    {
     "data": {
      "text/plain": [
       "{'cvec__max_df': 0.8,\n",
       " 'cvec__max_features': 1000,\n",
       " 'cvec__min_df': 1,\n",
       " 'cvec__ngram_range': (1, 2),\n",
       " 'cvec__stop_words': 'english',\n",
       " 'rf__ccp_alpha': 0,\n",
       " 'rf__max_depth': None,\n",
       " 'rf__min_samples_split': 5,\n",
       " 'rf__n_estimators': 150}"
      ]
     },
     "execution_count": 36,
     "metadata": {},
     "output_type": "execute_result"
    }
   ],
   "source": [
    "# best params\n",
    "rf_gs.best_params_"
   ]
  },
  {
   "cell_type": "code",
   "execution_count": 31,
   "id": "97800e11-7d86-4e5a-bc07-8cddc10ded97",
   "metadata": {},
   "outputs": [
    {
     "name": "stdout",
     "output_type": "stream",
     "text": [
      "Training Score: 0.9953333333333333\n",
      "Testing Score: 0.95\n"
     ]
    }
   ],
   "source": [
    "# print scores\n",
    "print(f'Training Score: {rf_gs.score(X_train, y_train)}')\n",
    "print(f'Testing Score: {rf_gs.score(X_test, y_test)}')"
   ]
  },
  {
   "cell_type": "markdown",
   "id": "18530b51-0b1b-4997-b7d6-23a033fe445a",
   "metadata": {},
   "source": [
    "* Let's Try it with Tfidf Vectorizer instead of Count Vectorizer"
   ]
  },
  {
   "cell_type": "markdown",
   "id": "9dbb9009-a143-4f08-8d68-ab778761bda8",
   "metadata": {},
   "source": [
    "#### Tfidf Vectorizer"
   ]
  },
  {
   "cell_type": "code",
   "execution_count": 32,
   "id": "7987a18c-97f6-4f76-a2df-7d9a92763056",
   "metadata": {},
   "outputs": [],
   "source": [
    "rf_pipe_2 = Pipeline([\n",
    "    ('tvec', TfidfVectorizer()),\n",
    "    ('rf', RandomForestClassifier())\n",
    "])"
   ]
  },
  {
   "cell_type": "code",
   "execution_count": 33,
   "id": "eee3393f-6602-4022-8aa0-bd9d5d03af06",
   "metadata": {},
   "outputs": [],
   "source": [
    "rf_pipe_params_2 = {\n",
    "    'rf__n_estimators':[50,100,150],\n",
    "    'rf__max_depth':[None,5],\n",
    "    'rf__min_samples_split':[2,5,10],\n",
    "    'rf__ccp_alpha':[0,.01,.1],\n",
    "    'tvec__stop_words': ['english', all_stopwords],\n",
    "    'tvec__max_features': [1000, 2000, 3000],\n",
    "    'tvec__min_df': range(1,3,5),\n",
    "    'tvec__max_df': [0.7, 0.8, 0.9],\n",
    "    'tvec__ngram_range': [(1, 2)]\n",
    "}"
   ]
  },
  {
   "cell_type": "code",
   "execution_count": 34,
   "id": "5cdd982e-b21f-4ff7-9dc8-d54ed95d7057",
   "metadata": {},
   "outputs": [],
   "source": [
    "rf_gs_2 = GridSearchCV(rf_pipe_2, param_grid = rf_pipe_params_2, n_jobs=-1)"
   ]
  },
  {
   "cell_type": "code",
   "execution_count": 35,
   "id": "b54b99d0-3edd-4d0f-a689-783d30a05642",
   "metadata": {},
   "outputs": [
    {
     "name": "stderr",
     "output_type": "stream",
     "text": [
      "/Users/cammiismugereski/opt/anaconda3/lib/python3.9/site-packages/joblib/externals/loky/process_executor.py:702: UserWarning: A worker stopped while some jobs were given to the executor. This can be caused by a too short worker timeout or by a memory leak.\n",
      "  warnings.warn(\n"
     ]
    },
    {
     "data": {
      "text/plain": [
       "GridSearchCV(estimator=Pipeline(steps=[('tvec', TfidfVectorizer()),\n",
       "                                       ('rf', RandomForestClassifier())]),\n",
       "             n_jobs=-1,\n",
       "             param_grid={'rf__ccp_alpha': [0, 0.01, 0.1],\n",
       "                         'rf__max_depth': [None, 5],\n",
       "                         'rf__min_samples_split': [2, 5, 10],\n",
       "                         'rf__n_estimators': [50, 100, 150],\n",
       "                         'tvec__max_df': [0.7, 0.8, 0.9],\n",
       "                         'tvec__max_features': [1000, 2000, 3000],\n",
       "                         'tvec__min_df': range(1, 3, 5),\n",
       "                         'tvec__ngram_range': [(1, 2)],\n",
       "                         'tvec__stop_words': ['english',\n",
       "                                              ['i', 'me', 'my', 'myself', 'we',\n",
       "                                               'our', 'ours', 'ourselves',\n",
       "                                               'you', \"you're\", \"you've\",\n",
       "                                               \"you'll\", \"you'd\", 'your',\n",
       "                                               'yours', 'yourself',\n",
       "                                               'yourselves', 'he', 'him', 'his',\n",
       "                                               'himself', 'she', \"she's\", 'her',\n",
       "                                               'hers', 'herself', 'it', \"it's\",\n",
       "                                               'its', 'itself', ...]]})"
      ]
     },
     "execution_count": 35,
     "metadata": {},
     "output_type": "execute_result"
    }
   ],
   "source": [
    "rf_gs_2.fit(X_train, y_train)"
   ]
  },
  {
   "cell_type": "code",
   "execution_count": 37,
   "id": "5eaaad4d-57bd-4773-98e4-0c779740acd7",
   "metadata": {},
   "outputs": [
    {
     "data": {
      "text/plain": [
       "{'rf__ccp_alpha': 0,\n",
       " 'rf__max_depth': None,\n",
       " 'rf__min_samples_split': 10,\n",
       " 'rf__n_estimators': 100,\n",
       " 'tvec__max_df': 0.9,\n",
       " 'tvec__max_features': 1000,\n",
       " 'tvec__min_df': 1,\n",
       " 'tvec__ngram_range': (1, 2),\n",
       " 'tvec__stop_words': 'english'}"
      ]
     },
     "execution_count": 37,
     "metadata": {},
     "output_type": "execute_result"
    }
   ],
   "source": [
    "# best params\n",
    "rf_gs_2.best_params_"
   ]
  },
  {
   "cell_type": "code",
   "execution_count": 38,
   "id": "6e67301d-676a-4b3b-9b67-ce075c44cddf",
   "metadata": {},
   "outputs": [
    {
     "name": "stdout",
     "output_type": "stream",
     "text": [
      "Training Score: 0.9953333333333333\n",
      "Testing Score: 0.938\n"
     ]
    }
   ],
   "source": [
    "# print scores\n",
    "print(f'Training Score: {rf_gs_2.score(X_train, y_train)}')\n",
    "print(f'Testing Score: {rf_gs_2.score(X_test, y_test)}')"
   ]
  },
  {
   "cell_type": "markdown",
   "id": "50833e7d-a020-4f6a-a418-77b9ff2d6ee9",
   "metadata": {},
   "source": [
    "#### kNN"
   ]
  },
  {
   "cell_type": "code",
   "execution_count": 41,
   "id": "8343129f-a5ee-4976-bd3b-e4d7811ec0a6",
   "metadata": {},
   "outputs": [],
   "source": [
    "knn_pipe = Pipeline([\n",
    "    ('tf', TfidfVectorizer()),\n",
    "    ('ss', StandardScaler(with_mean = False)),\n",
    "    ('knn', KNeighborsClassifier())\n",
    "])"
   ]
  },
  {
   "cell_type": "code",
   "execution_count": 43,
   "id": "62a37bda-93bf-4e36-96e4-5b87cc910c92",
   "metadata": {},
   "outputs": [],
   "source": [
    "knn_pipe_params = {\n",
    "    'knn__n_neighbors':[5,7,9],\n",
    "    'tf__stop_words': ['english', all_stopwords],\n",
    "    'tf__max_features': [500,1000,2000],\n",
    "    'tf__min_df': range(1,3),\n",
    "    'tf__max_df': [0.8, 0.9],\n",
    "    'tf__ngram_range': [(1,1),(1, 2)]\n",
    "}"
   ]
  },
  {
   "cell_type": "code",
   "execution_count": 44,
   "id": "c87514f7-3057-4253-a31e-c8fffc06c3d9",
   "metadata": {},
   "outputs": [],
   "source": [
    "knn_gs = GridSearchCV(knn_pipe, param_grid = knn_pipe_params, n_jobs = -1)"
   ]
  },
  {
   "cell_type": "code",
   "execution_count": 45,
   "id": "76065592-d2d5-4914-96eb-8952314d1d6d",
   "metadata": {},
   "outputs": [
    {
     "name": "stderr",
     "output_type": "stream",
     "text": [
      "/Users/cammiismugereski/opt/anaconda3/lib/python3.9/site-packages/joblib/externals/loky/process_executor.py:702: UserWarning: A worker stopped while some jobs were given to the executor. This can be caused by a too short worker timeout or by a memory leak.\n",
      "  warnings.warn(\n"
     ]
    },
    {
     "data": {
      "text/plain": [
       "GridSearchCV(estimator=Pipeline(steps=[('tf', TfidfVectorizer()),\n",
       "                                       ('ss', StandardScaler(with_mean=False)),\n",
       "                                       ('knn', KNeighborsClassifier())]),\n",
       "             n_jobs=-1,\n",
       "             param_grid={'knn__n_neighbors': [5, 7, 9],\n",
       "                         'tf__max_df': [0.8, 0.9],\n",
       "                         'tf__max_features': [500, 1000, 2000],\n",
       "                         'tf__min_df': range(1, 3),\n",
       "                         'tf__ngram_range': [(1, 1), (1, 2)],\n",
       "                         'tf__stop_words': ['english',\n",
       "                                            ['i', 'me', 'my', 'myself', 'we',\n",
       "                                             'our', 'ours', 'ourselves', 'you',\n",
       "                                             \"you're\", \"you've\", \"you'll\",\n",
       "                                             \"you'd\", 'your', 'yours',\n",
       "                                             'yourself', 'yourselves', 'he',\n",
       "                                             'him', 'his', 'himself', 'she',\n",
       "                                             \"she's\", 'her', 'hers', 'herself',\n",
       "                                             'it', \"it's\", 'its', 'itself', ...]]})"
      ]
     },
     "execution_count": 45,
     "metadata": {},
     "output_type": "execute_result"
    }
   ],
   "source": [
    "knn_gs.fit(X_train, y_train)"
   ]
  },
  {
   "cell_type": "code",
   "execution_count": 46,
   "id": "fc7093f0-4f6c-4f52-ad2c-129f3021811c",
   "metadata": {},
   "outputs": [
    {
     "data": {
      "text/plain": [
       "{'knn__n_neighbors': 5,\n",
       " 'tf__max_df': 0.8,\n",
       " 'tf__max_features': 500,\n",
       " 'tf__min_df': 2,\n",
       " 'tf__ngram_range': (1, 2),\n",
       " 'tf__stop_words': 'english'}"
      ]
     },
     "execution_count": 46,
     "metadata": {},
     "output_type": "execute_result"
    }
   ],
   "source": [
    "knn_gs.best_params_"
   ]
  },
  {
   "cell_type": "code",
   "execution_count": 47,
   "id": "f1a8f74e-0a49-4653-b903-62e415e623f2",
   "metadata": {},
   "outputs": [
    {
     "name": "stdout",
     "output_type": "stream",
     "text": [
      "Training Score: 0.5846666666666667\n",
      "Testing Score: 0.55\n"
     ]
    }
   ],
   "source": [
    "# print scores\n",
    "print(f'Training Score: {knn_gs.score(X_train, y_train)}')\n",
    "print(f'Testing Score: {knn_gs.score(X_test, y_test)}')"
   ]
  },
  {
   "cell_type": "markdown",
   "id": "0e46711b-d629-40b4-abd0-f7568945424f",
   "metadata": {},
   "source": [
    "* kNN with Tfidf Vectorizer is definitely not performing as well as the others."
   ]
  },
  {
   "cell_type": "markdown",
   "id": "f2009296-79f9-4791-8e6d-92ed48907c86",
   "metadata": {},
   "source": [
    "#### Stacking"
   ]
  },
  {
   "cell_type": "code",
   "execution_count": 66,
   "id": "0f192dcb-386a-4266-83df-d8d4d860f0a9",
   "metadata": {},
   "outputs": [],
   "source": [
    "level1_estimators = [\n",
    "    ('lr', lr_gs.best_estimator_),\n",
    "    ('nb', nb_gs.best_estimator_),\n",
    "    ('rf', rf_gs.best_estimator_)\n",
    "]\n",
    "\n",
    "stacked = StackingClassifier(estimators = level1_estimators,\n",
    "                                 final_estimator = RandomForestClassifier())"
   ]
  },
  {
   "cell_type": "code",
   "execution_count": 67,
   "id": "9367d8b4-b806-410e-869b-30629b38679e",
   "metadata": {
    "scrolled": true,
    "tags": []
   },
   "outputs": [
    {
     "data": {
      "text/plain": [
       "StackingClassifier(estimators=[('lr',\n",
       "                                Pipeline(steps=[('cvec',\n",
       "                                                 CountVectorizer(max_df=0.8,\n",
       "                                                                 max_features=1000,\n",
       "                                                                 stop_words='english')),\n",
       "                                                ('lr', LogisticRegression())])),\n",
       "                               ('nb',\n",
       "                                Pipeline(steps=[('cvec',\n",
       "                                                 CountVectorizer(max_df=0.7,\n",
       "                                                                 max_features=1000,\n",
       "                                                                 min_df=3,\n",
       "                                                                 stop_words=['i',\n",
       "                                                                             'me',\n",
       "                                                                             'my',\n",
       "                                                                             'myself',\n",
       "                                                                             'we',\n",
       "                                                                             'our',\n",
       "                                                                             'ours',\n",
       "                                                                             'ourselves',\n",
       "                                                                             'you',\n",
       "                                                                             \"you're\",\n",
       "                                                                             \"you've\",\n",
       "                                                                             \"you'll\",\n",
       "                                                                             \"you'd\",...\n",
       "                                                                             'his',\n",
       "                                                                             'himself',\n",
       "                                                                             'she',\n",
       "                                                                             \"she's\",\n",
       "                                                                             'her',\n",
       "                                                                             'hers',\n",
       "                                                                             'herself',\n",
       "                                                                             'it',\n",
       "                                                                             \"it's\",\n",
       "                                                                             'its',\n",
       "                                                                             'itself', ...])),\n",
       "                                                ('nb', MultinomialNB())])),\n",
       "                               ('rf',\n",
       "                                Pipeline(steps=[('cvec',\n",
       "                                                 CountVectorizer(max_df=0.8,\n",
       "                                                                 max_features=1000,\n",
       "                                                                 ngram_range=(1,\n",
       "                                                                              2),\n",
       "                                                                 stop_words='english')),\n",
       "                                                ('rf',\n",
       "                                                 RandomForestClassifier(ccp_alpha=0,\n",
       "                                                                        min_samples_split=5,\n",
       "                                                                        n_estimators=150))]))],\n",
       "                   final_estimator=RandomForestClassifier())"
      ]
     },
     "execution_count": 67,
     "metadata": {},
     "output_type": "execute_result"
    }
   ],
   "source": [
    "stacked.fit(X_train, y_train)"
   ]
  },
  {
   "cell_type": "code",
   "execution_count": 69,
   "id": "9ff53c64-6891-4cc2-9875-6bd222c8676b",
   "metadata": {},
   "outputs": [
    {
     "name": "stdout",
     "output_type": "stream",
     "text": [
      "Training Score: 0.9926666666666667\n",
      "Testing Score: 0.964\n"
     ]
    }
   ],
   "source": [
    "# print scores\n",
    "print(f'Training Score: {stacked.score(X_train, y_train)}')\n",
    "print(f'Testing Score: {stacked.score(X_test, y_test)}')"
   ]
  },
  {
   "cell_type": "markdown",
   "id": "5e437400-80e7-40bd-bd16-0733c8214b04",
   "metadata": {},
   "source": [
    "* Our stacked model is the best performing"
   ]
  },
  {
   "cell_type": "markdown",
   "id": "c03b613e-3293-4e42-8c35-83a6792d4338",
   "metadata": {},
   "source": [
    "### Post-Model Analysis"
   ]
  },
  {
   "cell_type": "markdown",
   "id": "ed3c21e8-e5c1-425d-a27e-3a12d4cd0d47",
   "metadata": {},
   "source": [
    "##### Our post-model analysis will happen on our stacked model"
   ]
  },
  {
   "cell_type": "code",
   "execution_count": 71,
   "id": "016095ab-aeb5-41ac-b247-2b0937f67f53",
   "metadata": {},
   "outputs": [],
   "source": [
    "# get predictions\n",
    "preds = stacked.predict(X_test)\n",
    "# save confusion matrix values\n",
    "tn, fp, fn, tp = confusion_matrix(y_test, preds).ravel()"
   ]
  },
  {
   "cell_type": "code",
   "execution_count": 81,
   "id": "7f395c4b-9c66-4989-a56f-32c32a8d3de3",
   "metadata": {},
   "outputs": [
    {
     "name": "stderr",
     "output_type": "stream",
     "text": [
      "/Users/cammiismugereski/opt/anaconda3/lib/python3.9/site-packages/sklearn/utils/deprecation.py:87: FutureWarning: Function plot_confusion_matrix is deprecated; Function `plot_confusion_matrix` is deprecated in 1.0 and will be removed in 1.2. Use one of the class methods: ConfusionMatrixDisplay.from_predictions or ConfusionMatrixDisplay.from_estimator.\n",
      "  warnings.warn(msg, category=FutureWarning)\n"
     ]
    },
    {
     "data": {
      "image/png": "[encoded data removed]",
      "text/plain": [
       "<Figure size 640x480 with 2 Axes>"
      ]
     },
     "metadata": {},
     "output_type": "display_data"
    }
   ],
   "source": [
    "# visualize\n",
    "plot_confusion_matrix(stacked, X_test, y_test);\n",
    "plt.savefig('../images/stacked_confusion_matrix.png');"
   ]
  },
  {
   "cell_type": "code",
   "execution_count": 78,
   "id": "b04b7a20-d3c6-4efb-a3b0-9d9a5a9d4bd3",
   "metadata": {},
   "outputs": [
    {
     "data": {
      "text/plain": [
       "array([243,   7,  11, 239])"
      ]
     },
     "execution_count": 78,
     "metadata": {},
     "output_type": "execute_result"
    }
   ],
   "source": [
    "confusion_matrix(y_test, preds).ravel()"
   ]
  },
  {
   "cell_type": "code",
   "execution_count": 80,
   "id": "fc74a9f5-e064-4738-9cd7-346f25a29ee7",
   "metadata": {},
   "outputs": [
    {
     "name": "stdout",
     "output_type": "stream",
     "text": [
      "Sensitivity: 0.956\n"
     ]
    }
   ],
   "source": [
    "# calculate sensitivity\n",
    "sens = tp / (tp + fn)\n",
    "\n",
    "print(f'Sensitivity: {sens}')"
   ]
  },
  {
   "cell_type": "markdown",
   "id": "e77afb99-8e0b-4478-b93b-67883220ffd2",
   "metadata": {},
   "source": [
    "* Sensitivity is our true positive rate and therefore tells us that 95% of our data that we predicted to be true, was actually really true in our stacked model."
   ]
  }
 ],
 "metadata": {
  "kernelspec": {
   "display_name": "Python 3 (ipykernel)",
   "language": "python",
   "name": "python3"
  },
  "language_info": {
   "codemirror_mode": {
    "name": "ipython",
    "version": 3
   },
   "file_extension": ".py",
   "mimetype": "text/x-python",
   "name": "python",
   "nbconvert_exporter": "python",
   "pygments_lexer": "ipython3",
   "version": "3.9.13"
  }
 },
 "nbformat": 4,
 "nbformat_minor": 5
}
