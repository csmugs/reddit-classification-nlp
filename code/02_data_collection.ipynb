{
 "cells": [
  {
   "cell_type": "markdown",
   "id": "d66c173a-a4d9-42a4-9fd4-3161ecb14065",
   "metadata": {},
   "source": [
    "## Imports"
   ]
  },
  {
   "cell_type": "code",
   "execution_count": 1,
   "id": "dca6f139-42d7-4723-8f27-e41befc23d35",
   "metadata": {},
   "outputs": [],
   "source": [
    "import pandas as pd\n",
    "import requests"
   ]
  },
  {
   "cell_type": "code",
   "execution_count": 17,
   "id": "381d4c32-0ac7-459c-ad5e-703b547e76fb",
   "metadata": {},
   "outputs": [],
   "source": [
    "url = 'https://api.pushshift.io/reddit/search/submission'\n",
    "\n",
    "params = {\n",
    "    'subreddit': ['dogs'],\n",
    "    'limit': 1000,\n",
    "    'filter': 'subreddit, selftext, title, created_utc'\n",
    "}"
   ]
  },
  {
   "cell_type": "code",
   "execution_count": 18,
   "id": "c9799776-dc6d-42bf-bd41-01a5c1ff5843",
   "metadata": {},
   "outputs": [
    {
     "data": {
      "text/plain": [
       "200"
      ]
     },
     "execution_count": 18,
     "metadata": {},
     "output_type": "execute_result"
    }
   ],
   "source": [
    "res = requests.get(url, params)\n",
    "\n",
    "res.status_code"
   ]
  },
  {
   "cell_type": "code",
   "execution_count": 19,
   "id": "f9734dc9-2926-46ac-a9bf-aa0a10b207e3",
   "metadata": {},
   "outputs": [
    {
     "data": {
      "text/html": [
       "<div>\n",
       "<style scoped>\n",
       "    .dataframe tbody tr th:only-of-type {\n",
       "        vertical-align: middle;\n",
       "    }\n",
       "\n",
       "    .dataframe tbody tr th {\n",
       "        vertical-align: top;\n",
       "    }\n",
       "\n",
       "    .dataframe thead th {\n",
       "        text-align: right;\n",
       "    }\n",
       "</style>\n",
       "<table border=\"1\" class=\"dataframe\">\n",
       "  <thead>\n",
       "    <tr style=\"text-align: right;\">\n",
       "      <th></th>\n",
       "      <th>subreddit</th>\n",
       "      <th>selftext</th>\n",
       "      <th>title</th>\n",
       "      <th>created_utc</th>\n",
       "    </tr>\n",
       "  </thead>\n",
       "  <tbody>\n",
       "    <tr>\n",
       "      <th>995</th>\n",
       "      <td>dogs</td>\n",
       "      <td>I've been fostering dogs for over 10 years now...</td>\n",
       "      <td>Need advice for selecting the right temperamen...</td>\n",
       "      <td>1673472215</td>\n",
       "    </tr>\n",
       "    <tr>\n",
       "      <th>996</th>\n",
       "      <td>dogs</td>\n",
       "      <td>Hi everyone, so i’ve been a lurker on this sub...</td>\n",
       "      <td>My MIL and FIL crate their three dogs in one k...</td>\n",
       "      <td>1673472166</td>\n",
       "    </tr>\n",
       "    <tr>\n",
       "      <th>997</th>\n",
       "      <td>dogs</td>\n",
       "      <td>This sounds odd, but I have a genuine fear of ...</td>\n",
       "      <td>Fear of pup aging</td>\n",
       "      <td>1673471781</td>\n",
       "    </tr>\n",
       "    <tr>\n",
       "      <th>998</th>\n",
       "      <td>dogs</td>\n",
       "      <td>My 2 year old dog has developed a severe fear ...</td>\n",
       "      <td>Terrified of strangers suddenly</td>\n",
       "      <td>1673471412</td>\n",
       "    </tr>\n",
       "    <tr>\n",
       "      <th>999</th>\n",
       "      <td>dogs</td>\n",
       "      <td>\\nMy family got a dog for the family when I wa...</td>\n",
       "      <td>I’ve been a neglectful pet owner and now I fee...</td>\n",
       "      <td>1673470614</td>\n",
       "    </tr>\n",
       "  </tbody>\n",
       "</table>\n",
       "</div>"
      ],
      "text/plain": [
       "    subreddit                                           selftext  \\\n",
       "995      dogs  I've been fostering dogs for over 10 years now...   \n",
       "996      dogs  Hi everyone, so i’ve been a lurker on this sub...   \n",
       "997      dogs  This sounds odd, but I have a genuine fear of ...   \n",
       "998      dogs  My 2 year old dog has developed a severe fear ...   \n",
       "999      dogs  \\nMy family got a dog for the family when I wa...   \n",
       "\n",
       "                                                 title  created_utc  \n",
       "995  Need advice for selecting the right temperamen...   1673472215  \n",
       "996  My MIL and FIL crate their three dogs in one k...   1673472166  \n",
       "997                                  Fear of pup aging   1673471781  \n",
       "998                    Terrified of strangers suddenly   1673471412  \n",
       "999  I’ve been a neglectful pet owner and now I fee...   1673470614  "
      ]
     },
     "execution_count": 19,
     "metadata": {},
     "output_type": "execute_result"
    }
   ],
   "source": [
    "dogs_df = pd.DataFrame(res.json()['data'])\n",
    "dogs_df.tail()"
   ]
  },
  {
   "cell_type": "code",
   "execution_count": 20,
   "id": "d94fc9d3-389a-4e54-b0fe-f64daa7abc3a",
   "metadata": {},
   "outputs": [],
   "source": [
    "params = {\n",
    "    'subreddit': ['cats'],\n",
    "    'limit': 1000,\n",
    "    'filter': 'subreddit, selftext, title, created_utc'\n",
    "}"
   ]
  },
  {
   "cell_type": "code",
   "execution_count": 21,
   "id": "39b10e40-e0f5-497b-bd8d-c4516c4ac217",
   "metadata": {},
   "outputs": [
    {
     "data": {
      "text/plain": [
       "200"
      ]
     },
     "execution_count": 21,
     "metadata": {},
     "output_type": "execute_result"
    }
   ],
   "source": [
    "res = requests.get(url, params)\n",
    "\n",
    "res.status_code"
   ]
  },
  {
   "cell_type": "code",
   "execution_count": 22,
   "id": "00e24807-7169-417c-8439-00c2b480fb00",
   "metadata": {},
   "outputs": [
    {
     "data": {
      "text/html": [
       "<div>\n",
       "<style scoped>\n",
       "    .dataframe tbody tr th:only-of-type {\n",
       "        vertical-align: middle;\n",
       "    }\n",
       "\n",
       "    .dataframe tbody tr th {\n",
       "        vertical-align: top;\n",
       "    }\n",
       "\n",
       "    .dataframe thead th {\n",
       "        text-align: right;\n",
       "    }\n",
       "</style>\n",
       "<table border=\"1\" class=\"dataframe\">\n",
       "  <thead>\n",
       "    <tr style=\"text-align: right;\">\n",
       "      <th></th>\n",
       "      <th>subreddit</th>\n",
       "      <th>selftext</th>\n",
       "      <th>title</th>\n",
       "      <th>created_utc</th>\n",
       "    </tr>\n",
       "  </thead>\n",
       "  <tbody>\n",
       "    <tr>\n",
       "      <th>995</th>\n",
       "      <td>cats</td>\n",
       "      <td></td>\n",
       "      <td>My sleepy boi</td>\n",
       "      <td>1673913111</td>\n",
       "    </tr>\n",
       "    <tr>\n",
       "      <th>996</th>\n",
       "      <td>cats</td>\n",
       "      <td></td>\n",
       "      <td>Safe to say my cat has accepted the new kitten.</td>\n",
       "      <td>1673913101</td>\n",
       "    </tr>\n",
       "    <tr>\n",
       "      <th>997</th>\n",
       "      <td>cats</td>\n",
       "      <td></td>\n",
       "      <td>She is a bit special for sleeping</td>\n",
       "      <td>1673913055</td>\n",
       "    </tr>\n",
       "    <tr>\n",
       "      <th>998</th>\n",
       "      <td>cats</td>\n",
       "      <td></td>\n",
       "      <td>Can anyone see me? I am hiding inside this…plate…</td>\n",
       "      <td>1673913046</td>\n",
       "    </tr>\n",
       "    <tr>\n",
       "      <th>999</th>\n",
       "      <td>cats</td>\n",
       "      <td></td>\n",
       "      <td>Cat nap yoga: the goat yoga of 2023?</td>\n",
       "      <td>1673913041</td>\n",
       "    </tr>\n",
       "  </tbody>\n",
       "</table>\n",
       "</div>"
      ],
      "text/plain": [
       "    subreddit selftext                                              title  \\\n",
       "995      cats                                               My sleepy boi   \n",
       "996      cats             Safe to say my cat has accepted the new kitten.   \n",
       "997      cats                           She is a bit special for sleeping   \n",
       "998      cats           Can anyone see me? I am hiding inside this…plate…   \n",
       "999      cats                        Cat nap yoga: the goat yoga of 2023?   \n",
       "\n",
       "     created_utc  \n",
       "995   1673913111  \n",
       "996   1673913101  \n",
       "997   1673913055  \n",
       "998   1673913046  \n",
       "999   1673913041  "
      ]
     },
     "execution_count": 22,
     "metadata": {},
     "output_type": "execute_result"
    }
   ],
   "source": [
    "cats_df = pd.DataFrame(res.json()['data'])\n",
    "cats_df.tail()"
   ]
  },
  {
   "cell_type": "code",
   "execution_count": 26,
   "id": "99b04f5e-3d9a-4026-b0d9-9e9b49bed6f4",
   "metadata": {},
   "outputs": [],
   "source": [
    "# concatenate cats + dogs df together\n",
    "pet_df = pd.concat([dogs_df, cats_df], ignore_index = True)"
   ]
  },
  {
   "cell_type": "code",
   "execution_count": 28,
   "id": "52865b01-df86-49fa-9fa8-631bd24258fe",
   "metadata": {},
   "outputs": [],
   "source": [
    "pet_df.to_csv('./data/pets.csv')"
   ]
  }
 ],
 "metadata": {
  "kernelspec": {
   "display_name": "Python 3 (ipykernel)",
   "language": "python",
   "name": "python3"
  },
  "language_info": {
   "codemirror_mode": {
    "name": "ipython",
    "version": 3
   },
   "file_extension": ".py",
   "mimetype": "text/x-python",
   "name": "python",
   "nbconvert_exporter": "python",
   "pygments_lexer": "ipython3",
   "version": "3.9.13"
  }
 },
 "nbformat": 4,
 "nbformat_minor": 5
}
